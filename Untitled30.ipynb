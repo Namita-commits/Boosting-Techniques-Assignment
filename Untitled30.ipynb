{
  "nbformat": 4,
  "nbformat_minor": 0,
  "metadata": {
    "colab": {
      "provenance": []
    },
    "kernelspec": {
      "name": "python3",
      "display_name": "Python 3"
    },
    "language_info": {
      "name": "python"
    }
  },
  "cells": [
    {
      "cell_type": "markdown",
      "source": [
        "Question 1: What is Boosting in Machine Learning? Explain how it improves weak\n",
        "learners.\n",
        "\n",
        "Answer: Boosting is an ensemble learning technique in Machine Learning that combines multiple weak learners (typically simple models like decision stumps) to form a strong predictive model. A weak learner is a model that performs only slightly better than random guessing.\n",
        "\n",
        "The key idea of boosting is to train weak learners sequentially, where each new learner focuses more on the instances that were misclassified by the previous learners. By assigning higher weights to incorrectly predicted samples, boosting ensures that subsequent models correct the mistakes of earlier ones.\n",
        "\n",
        "How it improves weak learners:\n",
        "\n",
        "1.Re-weighting: Each iteration adjusts the importance (weights) of training examples. Misclassified examples get higher weights so that the next learner pays more attention to them.\n",
        "\n",
        "2.Sequential training: Unlike bagging (parallel training), boosting builds models one after another, learning from the errors of the prior models.\n",
        "\n",
        "3.Weighted voting: The final prediction is made by combining the weighted outputs of all weak learners, giving more influence to more accurate learners.\n"
      ],
      "metadata": {
        "id": "CNHEcUacqjKL"
      }
    },
    {
      "cell_type": "code",
      "source": [],
      "metadata": {
        "id": "4QpYbXWAq8Bp"
      },
      "execution_count": null,
      "outputs": []
    },
    {
      "cell_type": "markdown",
      "source": [
        "Question 2: What is the difference between AdaBoost and Gradient Boosting in terms of how models are trained?\n",
        "Answer: Both AdaBoost and Gradient Boosting are boosting techniques, but they differ in how models are trained and how they focus on errors:\n",
        "\n",
        "1.AdaBoost (Adaptive Boosting):\n",
        "\n",
        "Training method: AdaBoost trains weak learners sequentially. After each iteration, it re-weights the training samples: misclassified samples get higher weights, while correctly classified samples get lower weights.\n",
        "\n",
        "Error correction: Each new learner focuses more on the previously misclassified instances.\n",
        "\n",
        "Combination: Final predictions are made by a weighted majority vote (classification) or weighted average (regression) of all weak learners.\n",
        "\n",
        "2.Gradient Boosting:\n",
        "\n",
        "Training method: Instead of re-weighting samples, Gradient Boosting trains new learners to fit the residual errors (gradients) of the previous model.\n",
        "\n",
        "Error correction: It treats boosting as an optimization problem, where each learner minimizes the loss function (e.g., mean squared error, log-loss) using gradient descent.\n",
        "\n",
        "Combination: Predictions are combined additively by summing up the outputs of all learners.\n",
        "\n",
        "Key Difference in Training:\n",
        "\n",
        "AdaBoost: Focuses on re-weighting data points based on misclassification.\n",
        "\n",
        "Gradient Boosting: Focuses on fitting the residuals (gradients of the loss function) to minimize overall error."
      ],
      "metadata": {
        "id": "-ynenU-LrAUw"
      }
    },
    {
      "cell_type": "markdown",
      "source": [
        "Question 3: How does regularization help in XGBoost?\n",
        "\n",
        "Answer: Regularization in XGBoost (Extreme Gradient Boosting) helps to prevent overfitting and improve the generalization ability of the model. Unlike traditional boosting methods, XGBoost explicitly adds regularization terms to its objective function.\n",
        "\n",
        "The objective function in XGBoost is:\n",
        "\n",
        "𝑂\n",
        "𝑏\n",
        "𝑗\n",
        "=\n",
        "𝐿\n",
        "(\n",
        "𝑦\n",
        "^\n",
        ",\n",
        "𝑦\n",
        ")\n",
        "+\n",
        "Ω\n",
        "(\n",
        "𝑓\n",
        ")\n",
        " Regularization components in XGBoost:\n",
        "\n",
        "L1 regularization (\n",
        "𝛼\n",
        "α) – Adds penalty on the absolute value of leaf weights (like Lasso). Encourages sparsity (some leaf weights become zero), which simplifies the model.\n",
        "\n",
        "L2 regularization (\n",
        "𝜆\n",
        "λ) – Adds penalty on the squared value of leaf weights (like Ridge). Prevents weights from becoming too large, stabilizing the model.\n",
        "\n",
        "Tree complexity control – Parameters like max_depth, min_child_weight, and gamma restrict tree growth, reducing model variance.\n",
        "\n",
        "How it helps:\n",
        "\n",
        "Prevents overly complex trees.\n",
        "\n",
        "Reduces variance and overfitting.\n",
        "\n",
        "Improves model stability and generalization.\n",
        "\n",
        "In short: Regularization in XGBoost balances the trade-off between model fit and complexity, making it more robust compared to traditional boosting methods."
      ],
      "metadata": {
        "id": "OeidSXTArsO_"
      }
    },
    {
      "cell_type": "markdown",
      "source": [
        "Question 4: Why is CatBoost considered efficient for handling categorical data?\n",
        "\n",
        "Answer: CatBoost is considered highly efficient for handling categorical data because:\n",
        "\n",
        "Native support for categorical features – Unlike many other algorithms that require manual preprocessing (e.g., one-hot encoding or label encoding), CatBoost can directly handle categorical variables without extensive data transformation.\n",
        "\n",
        "Efficient encoding using Target Statistics – It uses a technique called ordered target statistics (or ordered boosting), where categorical values are converted into numerical representations based on the distribution of the target variable, while avoiding target leakage.\n",
        "\n",
        "Reduced preprocessing effort – Since it eliminates the need for complex feature engineering, it simplifies the workflow and speeds up model development.\n",
        "\n",
        "Handles high-cardinality features well – CatBoost can efficiently manage categorical variables with a large number of unique values, where one-hot encoding would be impractical and memory-intensive.\n",
        "\n",
        "Avoids overfitting with ordered boosting – By carefully handling the encoding process using permutations, it prevents information leakage from the target variable, leading to better generalization.\n",
        "\n",
        "👉 In short, CatBoost is efficient for categorical data because it automates encoding, avoids leakage, reduces preprocessing, and handles high-cardinality features effectively."
      ],
      "metadata": {
        "id": "5E4Q9PVwyCsv"
      }
    },
    {
      "cell_type": "markdown",
      "source": [
        "Question 5: What are some real-world applications where boosting techniques are\n",
        "preferred over bagging methods?\n",
        "\n",
        "Answer: Boosting techniques are often preferred over bagging methods in real-world applications where high accuracy, handling of complex patterns, and reduction of bias are critical. Some examples include:\n",
        "\n",
        "Finance & Banking\n",
        "\n",
        "Credit scoring & loan default prediction – Boosting (e.g., XGBoost, LightGBM) is widely used because it captures subtle patterns in customer behavior and reduces bias, improving risk assessment.\n",
        "\n",
        "Fraud detection – Boosting models handle imbalanced data effectively, making them ideal for identifying rare fraudulent transactions.\n",
        "\n",
        "Healthcare\n",
        "\n",
        "Disease prediction and diagnosis – Boosting algorithms can detect small but important signals in medical data, improving diagnostic accuracy (e.g., predicting cancer, diabetes).\n",
        "\n",
        "Drug discovery – Helps in identifying patterns in molecular structures and biological interactions.\n",
        "\n",
        "Marketing & Customer Analytics\n",
        "\n",
        "Customer churn prediction – Boosting excels at identifying complex factors leading to churn.\n",
        "\n",
        "Recommendation systems – Improves personalization by learning intricate user–item interactions.\n",
        "\n",
        "Cybersecurity\n",
        "\n",
        "Intrusion detection – Boosting is preferred for recognizing subtle anomalies that indicate attacks.\n",
        "\n",
        "Spam & malware detection – Effective for classification tasks with noisy or imbalanced data.\n",
        "\n",
        "Search Engines & NLP\n",
        "\n",
        "Ranking problems (e.g., search results, ad placement) – Boosting is used because it handles ordered/ranking objectives better than bagging.\n",
        "\n",
        "Sentiment analysis & text classification – Boosting models improve accuracy in natural language processing tasks."
      ],
      "metadata": {
        "id": "yfMPbhRCyTmQ"
      }
    },
    {
      "cell_type": "markdown",
      "source": [
        "Datasets:\n",
        "\n",
        "● Use sklearn.datasets.load_breast_cancer() for classification tasks.\n",
        "\n",
        "● Use sklearn.datasets.fetch_california_housing() for regression\n",
        "tasks.\n",
        "\n",
        "Question 6: Write a Python program to:\n",
        "\n",
        "● Train an AdaBoost Classifier on the Breast Cancer dataset\n",
        "\n",
        "● Print the model accuracy\n",
        "\n",
        "(Include your Python code and output in the code box below.)"
      ],
      "metadata": {
        "id": "X1RFZ2wOzAI0"
      }
    },
    {
      "cell_type": "code",
      "source": [
        "# Import necessary libraries\n",
        "from sklearn.datasets import load_breast_cancer\n",
        "from sklearn.ensemble import AdaBoostClassifier\n",
        "from sklearn.model_selection import train_test_split\n",
        "from sklearn.metrics import accuracy_score\n",
        "\n",
        "# Load the Breast Cancer dataset\n",
        "data = load_breast_cancer()\n",
        "X, y = data.data, data.target\n",
        "\n",
        "# Split into training and testing sets (80% train, 20% test)\n",
        "X_train, X_test, y_train, y_test = train_test_split(\n",
        "    X, y, test_size=0.2, random_state=42\n",
        ")\n",
        "\n",
        "# Initialize AdaBoost Classifier\n",
        "model = AdaBoostClassifier(n_estimators=100, random_state=42)\n",
        "\n",
        "# Train the model\n",
        "model.fit(X_train, y_train)\n",
        "\n",
        "# Make predictions\n",
        "y_pred = model.predict(X_test)\n",
        "\n",
        "# Calculate and print accuracy\n",
        "accuracy = accuracy_score(y_test, y_pred)\n",
        "print(f\"AdaBoost Classifier Accuracy: {accuracy:.4f}\")\n"
      ],
      "metadata": {
        "colab": {
          "base_uri": "https://localhost:8080/"
        },
        "id": "4Uj90WpOzFGh",
        "outputId": "13ee6329-8dc3-4bb9-e810-455965fb011d"
      },
      "execution_count": 1,
      "outputs": [
        {
          "output_type": "stream",
          "name": "stdout",
          "text": [
            "AdaBoost Classifier Accuracy: 0.9737\n"
          ]
        }
      ]
    },
    {
      "cell_type": "code",
      "source": [],
      "metadata": {
        "id": "_vrO6BHSzQYM"
      },
      "execution_count": null,
      "outputs": []
    },
    {
      "cell_type": "markdown",
      "source": [
        "Question 7: Write a Python program to:\n",
        "\n",
        "● Train a Gradient Boosting Regressor on the California Housing dataset\n",
        "\n",
        "● Evaluate performance using R-squared score\n",
        "\n",
        "(Include your Python code and output in the code box below)\n"
      ],
      "metadata": {
        "id": "WuShh0_Zz2mM"
      }
    },
    {
      "cell_type": "code",
      "source": [
        "# Import necessary libraries\n",
        "from sklearn.datasets import fetch_california_housing\n",
        "from sklearn.ensemble import GradientBoostingRegressor\n",
        "from sklearn.model_selection import train_test_split\n",
        "from sklearn.metrics import r2_score\n",
        "\n",
        "# Load California Housing dataset\n",
        "data = fetch_california_housing()\n",
        "X, y = data.data, data.target\n",
        "\n",
        "# Split into training and testing sets (80% train, 20% test)\n",
        "X_train, X_test, y_train, y_test = train_test_split(\n",
        "    X, y, test_size=0.2, random_state=42\n",
        ")\n",
        "\n",
        "# Initialize Gradient Boosting Regressor\n",
        "model = GradientBoostingRegressor(n_estimators=200, learning_rate=0.1, max_depth=3, random_state=42)\n",
        "\n",
        "# Train the model\n",
        "model.fit(X_train, y_train)\n",
        "\n",
        "# Make predictions\n",
        "y_pred = model.predict(X_test)\n",
        "\n",
        "# Evaluate using R-squared score\n",
        "r2 = r2_score(y_test, y_pred)\n",
        "print(f\"Gradient Boosting Regressor R-squared Score: {r2:.4f}\")\n"
      ],
      "metadata": {
        "colab": {
          "base_uri": "https://localhost:8080/"
        },
        "id": "VwCU8yEoz-Ul",
        "outputId": "ce105640-b041-42c0-a916-80d436f78f9a"
      },
      "execution_count": 2,
      "outputs": [
        {
          "output_type": "stream",
          "name": "stdout",
          "text": [
            "Gradient Boosting Regressor R-squared Score: 0.8004\n"
          ]
        }
      ]
    },
    {
      "cell_type": "code",
      "source": [],
      "metadata": {
        "id": "1NzxgN180G6x"
      },
      "execution_count": null,
      "outputs": []
    },
    {
      "cell_type": "markdown",
      "source": [
        "Question 8: Write a Python program to:\n",
        "\n",
        "● Train an XGBoost Classifier on the Breast Cancer dataset\n",
        "\n",
        "● Tune the learning rate using GridSearchCV\n",
        "\n",
        "● Print the best parameters and accuracy\n",
        "\n",
        "(Include your Python code and output in the code box below.)\n",
        "Answer:"
      ],
      "metadata": {
        "id": "GlssJthU0YyT"
      }
    },
    {
      "cell_type": "code",
      "source": [
        "# Import necessary libraries\n",
        "from sklearn.datasets import load_breast_cancer\n",
        "from sklearn.model_selection import train_test_split, GridSearchCV\n",
        "from sklearn.metrics import accuracy_score\n",
        "from xgboost import XGBClassifier\n",
        "\n",
        "# Load Breast Cancer dataset\n",
        "data = load_breast_cancer()\n",
        "X, y = data.data, data.target\n",
        "\n",
        "# Split into training and testing sets\n",
        "X_train, X_test, y_train, y_test = train_test_split(\n",
        "    X, y, test_size=0.2, random_state=42\n",
        ")\n",
        "\n",
        "# Initialize XGBoost Classifier\n",
        "xgb_model = XGBClassifier(use_label_encoder=False, eval_metric='logloss', random_state=42)\n",
        "\n",
        "# Define parameter grid for learning rate tuning\n",
        "param_grid = {\n",
        "    'learning_rate': [0.01, 0.05, 0.1, 0.2, 0.3]\n",
        "}\n",
        "\n",
        "# Set up GridSearchCV\n",
        "grid_search = GridSearchCV(\n",
        "    estimator=xgb_model,\n",
        "    param_grid=param_grid,\n",
        "    scoring='accuracy',\n",
        "    cv=5,\n",
        "    n_jobs=-1\n",
        ")\n",
        "\n",
        "# Fit the model with GridSearchCV\n",
        "grid_search.fit(X_train, y_train)\n",
        "\n",
        "# Best parameters\n",
        "print(\"Best Parameters:\", grid_search.best_params_)\n",
        "\n",
        "# Make predictions with the best model\n",
        "best_model = grid_search.best_estimator_\n",
        "y_pred = best_model.predict(X_test)\n",
        "\n",
        "# Calculate accuracy\n",
        "accuracy = accuracy_score(y_test, y_pred)\n",
        "print(f\"XGBoost Classifier Accuracy: {accuracy:.4f}\")\n"
      ],
      "metadata": {
        "colab": {
          "base_uri": "https://localhost:8080/"
        },
        "id": "cpB5HZ430cKi",
        "outputId": "ee541536-3e68-43fc-91b7-ef4e68fc3516"
      },
      "execution_count": 3,
      "outputs": [
        {
          "output_type": "stream",
          "name": "stdout",
          "text": [
            "Best Parameters: {'learning_rate': 0.2}\n",
            "XGBoost Classifier Accuracy: 0.9561\n"
          ]
        },
        {
          "output_type": "stream",
          "name": "stderr",
          "text": [
            "/usr/local/lib/python3.12/dist-packages/xgboost/training.py:183: UserWarning: [10:42:16] WARNING: /workspace/src/learner.cc:738: \n",
            "Parameters: { \"use_label_encoder\" } are not used.\n",
            "\n",
            "  bst.update(dtrain, iteration=i, fobj=obj)\n"
          ]
        }
      ]
    },
    {
      "cell_type": "code",
      "source": [],
      "metadata": {
        "id": "k4r1ts-A0j5k"
      },
      "execution_count": null,
      "outputs": []
    },
    {
      "cell_type": "markdown",
      "source": [
        "Question 10: You're working for a FinTech company trying to predict loan default using\n",
        "customer demographics and transaction behavior.\n",
        "\n",
        "The dataset is imbalanced, contains missing values, and has both numeric and\n",
        "categorical features.\n",
        "\n",
        "Describe your step-by-step data science pipeline using boosting techniques:\n",
        "\n",
        "● Data preprocessing & handling missing/categorical values\n",
        "\n",
        "● Choice between AdaBoost, XGBoost, or CatBoost\n",
        "\n",
        "● Hyperparameter tuning strategy\n",
        "\n",
        "● Evaluation metrics you'd choose and why\n",
        "\n",
        "\n",
        "● How the business would benefit from your model\n",
        "\n",
        "(Include your Python code and output in the code box below.)"
      ],
      "metadata": {
        "id": "gmk8ocUG1oN7"
      }
    },
    {
      "cell_type": "code",
      "source": [],
      "metadata": {
        "id": "PVCc-zwJ18gd"
      },
      "execution_count": null,
      "outputs": []
    },
    {
      "cell_type": "code",
      "metadata": {
        "colab": {
          "base_uri": "https://localhost:8080/"
        },
        "id": "d183e608",
        "outputId": "de4b5332-91f6-4d74-ab66-2213a6f04719"
      },
      "source": [
        "!pip install catboost"
      ],
      "execution_count": 7,
      "outputs": [
        {
          "output_type": "stream",
          "name": "stdout",
          "text": [
            "Collecting catboost\n",
            "  Downloading catboost-1.2.8-cp312-cp312-manylinux2014_x86_64.whl.metadata (1.2 kB)\n",
            "Requirement already satisfied: graphviz in /usr/local/lib/python3.12/dist-packages (from catboost) (0.21)\n",
            "Requirement already satisfied: matplotlib in /usr/local/lib/python3.12/dist-packages (from catboost) (3.10.0)\n",
            "Requirement already satisfied: numpy<3.0,>=1.16.0 in /usr/local/lib/python3.12/dist-packages (from catboost) (2.0.2)\n",
            "Requirement already satisfied: pandas>=0.24 in /usr/local/lib/python3.12/dist-packages (from catboost) (2.2.2)\n",
            "Requirement already satisfied: scipy in /usr/local/lib/python3.12/dist-packages (from catboost) (1.16.1)\n",
            "Requirement already satisfied: plotly in /usr/local/lib/python3.12/dist-packages (from catboost) (5.24.1)\n",
            "Requirement already satisfied: six in /usr/local/lib/python3.12/dist-packages (from catboost) (1.17.0)\n",
            "Requirement already satisfied: python-dateutil>=2.8.2 in /usr/local/lib/python3.12/dist-packages (from pandas>=0.24->catboost) (2.9.0.post0)\n",
            "Requirement already satisfied: pytz>=2020.1 in /usr/local/lib/python3.12/dist-packages (from pandas>=0.24->catboost) (2025.2)\n",
            "Requirement already satisfied: tzdata>=2022.7 in /usr/local/lib/python3.12/dist-packages (from pandas>=0.24->catboost) (2025.2)\n",
            "Requirement already satisfied: contourpy>=1.0.1 in /usr/local/lib/python3.12/dist-packages (from matplotlib->catboost) (1.3.3)\n",
            "Requirement already satisfied: cycler>=0.10 in /usr/local/lib/python3.12/dist-packages (from matplotlib->catboost) (0.12.1)\n",
            "Requirement already satisfied: fonttools>=4.22.0 in /usr/local/lib/python3.12/dist-packages (from matplotlib->catboost) (4.59.1)\n",
            "Requirement already satisfied: kiwisolver>=1.3.1 in /usr/local/lib/python3.12/dist-packages (from matplotlib->catboost) (1.4.9)\n",
            "Requirement already satisfied: packaging>=20.0 in /usr/local/lib/python3.12/dist-packages (from matplotlib->catboost) (25.0)\n",
            "Requirement already satisfied: pillow>=8 in /usr/local/lib/python3.12/dist-packages (from matplotlib->catboost) (11.3.0)\n",
            "Requirement already satisfied: pyparsing>=2.3.1 in /usr/local/lib/python3.12/dist-packages (from matplotlib->catboost) (3.2.3)\n",
            "Requirement already satisfied: tenacity>=6.2.0 in /usr/local/lib/python3.12/dist-packages (from plotly->catboost) (8.5.0)\n",
            "Downloading catboost-1.2.8-cp312-cp312-manylinux2014_x86_64.whl (99.2 MB)\n",
            "\u001b[2K   \u001b[90m━━━━━━━━━━━━━━━━━━━━━━━━━━━━━━━━━━━━━━━━\u001b[0m \u001b[32m99.2/99.2 MB\u001b[0m \u001b[31m9.2 MB/s\u001b[0m eta \u001b[36m0:00:00\u001b[0m\n",
            "\u001b[?25hInstalling collected packages: catboost\n",
            "Successfully installed catboost-1.2.8\n"
          ]
        }
      ]
    },
    {
      "cell_type": "code",
      "metadata": {
        "colab": {
          "base_uri": "https://localhost:8080/",
          "height": 960
        },
        "id": "7a34c0e1",
        "outputId": "7f3faa24-dba8-476a-ca1e-a8c1fc0bd30d"
      },
      "source": [
        "# Import libraries\n",
        "import pandas as pd\n",
        "import numpy as np\n",
        "from sklearn.model_selection import train_test_split, RandomizedSearchCV\n",
        "from sklearn.metrics import classification_report, roc_auc_score, confusion_matrix\n",
        "import seaborn as sns\n",
        "import matplotlib.pyplot as plt\n",
        "from catboost import CatBoostClassifier, Pool\n",
        "\n",
        "# -------------------------------\n",
        "# Step 1: Simulated Dataset (replace with real FinTech dataset)\n",
        "# -------------------------------\n",
        "np.random.seed(42)\n",
        "data = pd.DataFrame({\n",
        "    \"age\": np.random.randint(18, 60, 1000),\n",
        "    \"income\": np.random.randint(20000, 150000, 1000),\n",
        "    \"gender\": np.random.choice([\"Male\", \"Female\"], 1000),\n",
        "    \"transaction_count\": np.random.randint(1, 500, 1000),\n",
        "    \"loan_amount\": np.random.randint(5000, 50000, 1000),\n",
        "    \"default\": np.random.choice([0, 1], 1000, p=[0.85, 0.15])  # imbalanced target\n",
        "})\n",
        "\n",
        "# Introduce some missing values\n",
        "data.loc[np.random.randint(0,1000,50), \"income\"] = np.nan\n",
        "data.loc[np.random.randint(0,1000,30), \"gender\"] = np.nan\n",
        "\n",
        "# -------------------------------\n",
        "# Step 2: Preprocessing\n",
        "# -------------------------------\n",
        "# Handle missing values\n",
        "data[\"income\"].fillna(data[\"income\"].median(), inplace=True)\n",
        "data[\"gender\"].fillna(data[\"gender\"].mode()[0], inplace=True)\n",
        "\n",
        "# Split features and target\n",
        "X = data.drop(\"default\", axis=1)\n",
        "y = data[\"default\"]\n",
        "\n",
        "# Identify categorical features\n",
        "cat_features = [\"gender\"]\n",
        "\n",
        "# Train-test split\n",
        "X_train, X_test, y_train, y_test = train_test_split(\n",
        "    X, y, test_size=0.2, stratify=y, random_state=42\n",
        ")\n",
        "\n",
        "# -------------------------------\n",
        "# Step 3: Model Training (CatBoost)\n",
        "# -------------------------------\n",
        "model = CatBoostClassifier(\n",
        "    eval_metric=\"AUC\",\n",
        "    random_seed=42,\n",
        "    verbose=0,\n",
        "    class_weights=[1, 6]  # handle imbalance\n",
        ")\n",
        "\n",
        "# Hyperparameter tuning (random search example)\n",
        "param_grid = {\n",
        "    \"depth\": [4, 6, 8],\n",
        "    \"learning_rate\": [0.01, 0.05, 0.1],\n",
        "    \"iterations\": [200, 500, 800]\n",
        "}\n",
        "\n",
        "search = RandomizedSearchCV(\n",
        "    model, param_grid, n_iter=5,\n",
        "    scoring=\"roc_auc\", cv=3, random_state=42, n_jobs=-1\n",
        ")\n",
        "search.fit(X_train, y_train, cat_features=cat_features)\n",
        "\n",
        "best_model = search.best_estimator_\n",
        "print(\"Best Parameters:\", search.best_params_)\n",
        "\n",
        "# -------------------------------\n",
        "# Step 4: Evaluation\n",
        "# -------------------------------\n",
        "y_pred = best_model.predict(X_test)\n",
        "y_pred_proba = best_model.predict_proba(X_test)[:,1]\n",
        "\n",
        "print(\"\\nClassification Report:\\n\", classification_report(y_test, y_pred))\n",
        "print(\"ROC-AUC Score:\", roc_auc_score(y_test, y_pred_proba))\n",
        "\n",
        "# Confusion Matrix\n",
        "cm = confusion_matrix(y_test, y_pred)\n",
        "sns.heatmap(cm, annot=True, fmt=\"d\", cmap=\"Blues\",\n",
        "            xticklabels=[\"No Default\", \"Default\"],\n",
        "            yticklabels=[\"No Default\", \"Default\"])\n",
        "plt.xlabel(\"Predicted\")\n",
        "plt.ylabel(\"Actual\")\n",
        "plt.title(\"Confusion Matrix - Loan Default Prediction\")\n",
        "plt.show()"
      ],
      "execution_count": 8,
      "outputs": [
        {
          "output_type": "stream",
          "name": "stderr",
          "text": [
            "/tmp/ipython-input-3182694140.py:31: FutureWarning: A value is trying to be set on a copy of a DataFrame or Series through chained assignment using an inplace method.\n",
            "The behavior will change in pandas 3.0. This inplace method will never work because the intermediate object on which we are setting values always behaves as a copy.\n",
            "\n",
            "For example, when doing 'df[col].method(value, inplace=True)', try using 'df.method({col: value}, inplace=True)' or df[col] = df[col].method(value) instead, to perform the operation inplace on the original object.\n",
            "\n",
            "\n",
            "  data[\"income\"].fillna(data[\"income\"].median(), inplace=True)\n",
            "/tmp/ipython-input-3182694140.py:32: FutureWarning: A value is trying to be set on a copy of a DataFrame or Series through chained assignment using an inplace method.\n",
            "The behavior will change in pandas 3.0. This inplace method will never work because the intermediate object on which we are setting values always behaves as a copy.\n",
            "\n",
            "For example, when doing 'df[col].method(value, inplace=True)', try using 'df.method({col: value}, inplace=True)' or df[col] = df[col].method(value) instead, to perform the operation inplace on the original object.\n",
            "\n",
            "\n",
            "  data[\"gender\"].fillna(data[\"gender\"].mode()[0], inplace=True)\n"
          ]
        },
        {
          "output_type": "stream",
          "name": "stdout",
          "text": [
            "Best Parameters: {'learning_rate': 0.1, 'iterations': 800, 'depth': 4}\n",
            "\n",
            "Classification Report:\n",
            "               precision    recall  f1-score   support\n",
            "\n",
            "           0       0.86      0.90      0.88       174\n",
            "           1       0.00      0.00      0.00        26\n",
            "\n",
            "    accuracy                           0.78       200\n",
            "   macro avg       0.43      0.45      0.44       200\n",
            "weighted avg       0.75      0.78      0.76       200\n",
            "\n",
            "ROC-AUC Score: 0.4372236958443855\n"
          ]
        },
        {
          "output_type": "display_data",
          "data": {
            "text/plain": [
              "<Figure size 640x480 with 2 Axes>"
            ],
            "image/png": "[encoded data removed]"
          },
          "metadata": {}
        }
      ]
    }
  ]
}